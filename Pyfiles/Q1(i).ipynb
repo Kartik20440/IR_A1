{
 "cells": [
  {
   "attachments": {},
   "cell_type": "markdown",
   "metadata": {},
   "source": [
    "### Python Notebook for Q1"
   ]
  },
  {
   "cell_type": "code",
   "execution_count": 1,
   "metadata": {},
   "outputs": [],
   "source": [
    "from bs4 import BeautifulSoup as bs\n",
    "import os\n",
    "from tqdm.notebook import tqdm,tnrange"
   ]
  },
  {
   "cell_type": "code",
   "execution_count": 2,
   "metadata": {},
   "outputs": [],
   "source": [
    "os.chdir('../CSE508_Winter2023_Dataset/CSE508_Winter2023_Dataset_XML')"
   ]
  },
  {
   "attachments": {},
   "cell_type": "markdown",
   "metadata": {},
   "source": [
    "#### Changed doctype to make it readable in beautiful soup"
   ]
  },
  {
   "cell_type": "code",
   "execution_count": 3,
   "metadata": {},
   "outputs": [
    {
     "data": {
      "text/plain": [
       "'\\n#open and add a line at the starting of the file\\ndef add_line(filename):\\n    with open(filename, \\'r+\\') as f:\\n        content = f.read()\\n        f.seek(0, 0)\\n        f.write(\\'<?xml version=\"1.0\" encoding=\"UTF-8\"?>\\' + \\'\\n\\' + content)\\n        f.close()\\n\\n#add a line at the starting of all the files\\nfor filename in os.listdir():\\n    add_line(filename)\\n'"
      ]
     },
     "execution_count": 3,
     "metadata": {},
     "output_type": "execute_result"
    }
   ],
   "source": [
    "'''\n",
    "#open and add a line at the starting of the file\n",
    "def add_line(filename):\n",
    "    with open(filename, 'r+') as f:\n",
    "        content = f.read()\n",
    "        f.seek(0, 0)\n",
    "        f.write('<?xml version=\"1.0\" encoding=\"UTF-8\"?>' + '\\n' + content)\n",
    "        f.close()\n",
    "\n",
    "#add a line at the starting of all the files\n",
    "for filename in os.listdir():\n",
    "    add_line(filename)\n",
    "'''"
   ]
  },
  {
   "attachments": {},
   "cell_type": "markdown",
   "metadata": {},
   "source": [
    "#### Reading New XML file and extracting text and title"
   ]
  },
  {
   "cell_type": "code",
   "execution_count": 4,
   "metadata": {},
   "outputs": [
    {
     "data": {
      "text/plain": [
       "\"\\n# open and read the file\\nfor filename in os.listdir():\\n    with open(filename, 'r+') as f:\\n        content = f.read()\\n        soup = bs(content, 'xml')\\n        title = soup.find('TITLE').text\\n        title = title[1:-1]\\n        text = soup.find('TEXT').text\\n        text = text[1:-1]\\n        f.truncate(0)\\n        f.seek(0, 0)\\n        f.write(title + ' ' + text)\\n        f.close()\\n\""
      ]
     },
     "execution_count": 4,
     "metadata": {},
     "output_type": "execute_result"
    }
   ],
   "source": [
    "'''\n",
    "# open and read the file\n",
    "for filename in os.listdir():\n",
    "    with open(filename, 'r+') as f:\n",
    "        content = f.read()\n",
    "        soup = bs(content, 'xml')\n",
    "        title = soup.find('TITLE').text\n",
    "        title = title[1:-1]\n",
    "        text = soup.find('TEXT').text\n",
    "        text = text[1:-1]\n",
    "        f.truncate(0)\n",
    "        f.seek(0, 0)\n",
    "        f.write(title + ' ' + text)\n",
    "        f.close()\n",
    "'''"
   ]
  },
  {
   "cell_type": "code",
   "execution_count": 5,
   "metadata": {},
   "outputs": [],
   "source": [
    "os.chdir('../CSE508_Winter2023_Dataset')"
   ]
  },
  {
   "attachments": {},
   "cell_type": "markdown",
   "metadata": {},
   "source": [
    "#### Content of files before preprocessing"
   ]
  },
  {
   "cell_type": "code",
   "execution_count": 6,
   "metadata": {},
   "outputs": [
    {
     "data": {
      "application/vnd.jupyter.widget-view+json": {
       "model_id": "1724f9b2cff546d2b35810bf4c0e602c",
       "version_major": 2,
       "version_minor": 0
      },
      "text/plain": [
       "HBox(children=(HTML(value=''), FloatProgress(value=0.0, max=5.0), HTML(value='')))"
      ]
     },
     "metadata": {},
     "output_type": "display_data"
    },
    {
     "name": "stdout",
     "output_type": "stream",
     "text": [
      "cranfield0001\n",
      "\n",
      "<DOC>\n",
      "<DOCNO>\n",
      "1\n",
      "</DOCNO>\n",
      "<TITLE>\n",
      "experimental investigation of the aerodynamics of a\n",
      "wing in a slipstream .\n",
      "</TITLE>\n",
      "<AUTHOR>\n",
      "brenckman,m.\n",
      "</AUTHOR>\n",
      "<BIBLIO>\n",
      "j. ae. scs. 25, 1958, 324.\n",
      "</BIBLIO>\n",
      "<TEXT>\n",
      "  an experimental study of a wing in a propeller slipstream was\n",
      "made in order to determine the spanwise distribution of the lift\n",
      "increase due to slipstream at different angles of attack of the wing\n",
      "and at different free stream to slipstream velocity ratios .  the\n",
      "results were intended in part as an evaluation basis for different\n",
      "theoretical treatments of this problem .\n",
      "  the comparative span loading curves, together with supporting\n",
      "evidence, showed that a substantial part of the lift increment\n",
      "produced by the slipstream was due to a /destalling/ or boundary-layer-control\n",
      "effect .  the integrated remaining lift increment,\n",
      "after subtracting this destalling lift, was found to agree\n",
      "well with a potential flow theory .\n",
      "  an empirical evaluation of the destalling effects was made for\n",
      "the specific configuration of the experiment .\n",
      "</TEXT>\n",
      "</DOC>\n",
      "\n",
      "\n",
      "cranfield0002\n",
      "\n",
      "<DOC>\n",
      "<DOCNO>\n",
      "2\n",
      "</DOCNO>\n",
      "<TITLE>\n",
      "simple shear flow past a flat plate in an incompressible fluid of small\n",
      "viscosity .\n",
      "</TITLE>\n",
      "<AUTHOR>\n",
      "ting-yili\n",
      "</AUTHOR>\n",
      "<BIBLIO>\n",
      "department of aeronautical engineering, rensselaer polytechnic\n",
      "institute\n",
      "troy, n.y.\n",
      "</BIBLIO>\n",
      "<TEXT>\n",
      "in the study of high-speed viscous flow past a two-dimensional body it\n",
      "is usually necessary to consider a curved shock wave emitting from the\n",
      "nose or leading edge of the body .  consequently, there exists an inviscid\n",
      "rotational flow region between the shock wave and the boundary layer\n",
      ".  such a situation arises, for instance, in the study of the hypersonic\n",
      "viscous flow past a flat plate .  the situation is somewhat different\n",
      "from prandtl's classical boundary-layer problem . in prandtl's\n",
      "original problem the inviscid free stream outside the boundary layer is\n",
      "irrotational while in a hypersonic boundary-layer problem the inviscid\n",
      "free stream must be considered as rotational .  the possible effects of\n",
      "vorticity have been recently discussed by ferri and libby .  in the present\n",
      "paper, the simple shear flow past a flat plate in a fluid of small\n",
      "viscosity is investigated .  it can be shown that this problem can again\n",
      "be treated by the boundary-layer approximation, the only novel feature\n",
      "being that the free stream has a constant vorticity .  the discussion\n",
      "here is restricted to two-dimensional incompressible steady flow .\n",
      "</TEXT>\n",
      "</DOC>\n",
      "\n",
      "\n",
      "cranfield0003\n",
      "\n",
      "<DOC>\n",
      "<DOCNO>\n",
      "3\n",
      "</DOCNO>\n",
      "<TITLE>\n",
      "the boundary layer in simple shear flow past a flat plate .\n",
      "</TITLE>\n",
      "<AUTHOR>\n",
      "m. b. glauert\n",
      "</AUTHOR>\n",
      "<BIBLIO>\n",
      "department of mathematics, university of manchester, manchester,\n",
      "england\n",
      "</BIBLIO>\n",
      "<TEXT>\n",
      "the boundary-layer equations are presented for steady\n",
      "incompressible flow with no pressure gradient .\n",
      "</TEXT>\n",
      "</DOC>\n",
      "\n",
      "\n",
      "cranfield0004\n",
      "\n",
      "<DOC>\n",
      "<DOCNO>\n",
      "4\n",
      "</DOCNO>\n",
      "<TITLE>\n",
      "approximate solutions of the incompressible laminar\n",
      "boundary layer equations for a plate in shear flow .\n",
      "</TITLE>\n",
      "<AUTHOR>\n",
      "yen,k.t.\n",
      "</AUTHOR>\n",
      "<BIBLIO>\n",
      "j. ae. scs. 22, 1955, 728.\n",
      "</BIBLIO>\n",
      "<TEXT>\n",
      "  the two-dimensional steady boundary-layer\n",
      "problem for a flat plate in a\n",
      "shear flow of incompressible fluid is considered .\n",
      "solutions for the boundarylayer\n",
      "thickness, skin friction, and the velocity\n",
      "distribution in the boundary\n",
      "layer are obtained by the karman-pohlhausen\n",
      "technique .  comparison with\n",
      "the boundary layer of a uniform flow has also\n",
      "been made to show the effect of\n",
      "vorticity .\n",
      "</TEXT>\n",
      "</DOC>\n",
      "\n",
      "\n",
      "cranfield0005\n",
      "\n",
      "<DOC>\n",
      "<DOCNO>\n",
      "5\n",
      "</DOCNO>\n",
      "<TITLE>\n",
      "one-dimensional transient heat conduction into a double-layer\n",
      "slab subjected to a linear heat input for a small time\n",
      "internal .\n",
      "</TITLE>\n",
      "<AUTHOR>\n",
      "wasserman,b.\n",
      "</AUTHOR>\n",
      "<BIBLIO>\n",
      "j. ae. scs. 24, 1957, 924.\n",
      "</BIBLIO>\n",
      "<TEXT>\n",
      "  analytic solutions are presented for the transient heat conduction\n",
      "in composite slabs exposed at one surface to a\n",
      "triangular heat rate .  this type of heating rate may occur, for\n",
      "example, during aerodynamic heating .\n",
      "</TEXT>\n",
      "</DOC>\n",
      "\n",
      "\n",
      "\n"
     ]
    }
   ],
   "source": [
    "#print content of first 5 files\n",
    "for filename in tqdm(os.listdir()[:5]):\n",
    "    with open(filename, 'r') as f:\n",
    "        print(filename)\n",
    "        print()\n",
    "        print(f.read())\n",
    "        print( )\n",
    "        f.close()"
   ]
  },
  {
   "cell_type": "code",
   "execution_count": 7,
   "metadata": {},
   "outputs": [],
   "source": [
    "os.chdir('../CSE508_Winter2023_Dataset_XML/')"
   ]
  },
  {
   "attachments": {},
   "cell_type": "markdown",
   "metadata": {},
   "source": [
    "#### Content of files after preprocessing"
   ]
  },
  {
   "cell_type": "code",
   "execution_count": 8,
   "metadata": {},
   "outputs": [
    {
     "data": {
      "application/vnd.jupyter.widget-view+json": {
       "model_id": "aef43328eb1a4fe4902ca8bba9846db2",
       "version_major": 2,
       "version_minor": 0
      },
      "text/plain": [
       "HBox(children=(HTML(value=''), FloatProgress(value=0.0, max=5.0), HTML(value='')))"
      ]
     },
     "metadata": {},
     "output_type": "display_data"
    },
    {
     "name": "stdout",
     "output_type": "stream",
     "text": [
      "cranfield0001\n",
      "\n",
      "experimental investigation of the aerodynamics of a\n",
      "wing in a slipstream .   an experimental study of a wing in a propeller slipstream was\n",
      "made in order to determine the spanwise distribution of the lift\n",
      "increase due to slipstream at different angles of attack of the wing\n",
      "and at different free stream to slipstream velocity ratios .  the\n",
      "results were intended in part as an evaluation basis for different\n",
      "theoretical treatments of this problem .\n",
      "  the comparative span loading curves, together with supporting\n",
      "evidence, showed that a substantial part of the lift increment\n",
      "produced by the slipstream was due to a /destalling/ or boundary-layer-control\n",
      "effect .  the integrated remaining lift increment,\n",
      "after subtracting this destalling lift, was found to agree\n",
      "well with a potential flow theory .\n",
      "  an empirical evaluation of the destalling effects was made for\n",
      "the specific configuration of the experiment .\n",
      "\n",
      "cranfield0002\n",
      "\n",
      "simple shear flow past a flat plate in an incompressible fluid of small\n",
      "viscosity . in the study of high-speed viscous flow past a two-dimensional body it\n",
      "is usually necessary to consider a curved shock wave emitting from the\n",
      "nose or leading edge of the body .  consequently, there exists an inviscid\n",
      "rotational flow region between the shock wave and the boundary layer\n",
      ".  such a situation arises, for instance, in the study of the hypersonic\n",
      "viscous flow past a flat plate .  the situation is somewhat different\n",
      "from prandtl's classical boundary-layer problem . in prandtl's\n",
      "original problem the inviscid free stream outside the boundary layer is\n",
      "irrotational while in a hypersonic boundary-layer problem the inviscid\n",
      "free stream must be considered as rotational .  the possible effects of\n",
      "vorticity have been recently discussed by ferri and libby .  in the present\n",
      "paper, the simple shear flow past a flat plate in a fluid of small\n",
      "viscosity is investigated .  it can be shown that this problem can again\n",
      "be treated by the boundary-layer approximation, the only novel feature\n",
      "being that the free stream has a constant vorticity .  the discussion\n",
      "here is restricted to two-dimensional incompressible steady flow .\n",
      "\n",
      "cranfield0003\n",
      "\n",
      "the boundary layer in simple shear flow past a flat plate . the boundary-layer equations are presented for steady\n",
      "incompressible flow with no pressure gradient .\n",
      "\n",
      "cranfield0004\n",
      "\n",
      "approximate solutions of the incompressible laminar\n",
      "boundary layer equations for a plate in shear flow .   the two-dimensional steady boundary-layer\n",
      "problem for a flat plate in a\n",
      "shear flow of incompressible fluid is considered .\n",
      "solutions for the boundarylayer\n",
      "thickness, skin friction, and the velocity\n",
      "distribution in the boundary\n",
      "layer are obtained by the karman-pohlhausen\n",
      "technique .  comparison with\n",
      "the boundary layer of a uniform flow has also\n",
      "been made to show the effect of\n",
      "vorticity .\n",
      "\n",
      "cranfield0005\n",
      "\n",
      "one-dimensional transient heat conduction into a double-layer\n",
      "slab subjected to a linear heat input for a small time\n",
      "internal .   analytic solutions are presented for the transient heat conduction\n",
      "in composite slabs exposed at one surface to a\n",
      "triangular heat rate .  this type of heating rate may occur, for\n",
      "example, during aerodynamic heating .\n",
      "\n",
      "\n"
     ]
    }
   ],
   "source": [
    "#print content of first 5 files\n",
    "for i,filename in enumerate(tqdm(os.listdir()[:5])):\n",
    "    with open(filename, 'r') as f:\n",
    "        print(filename)\n",
    "        print()\n",
    "        print(f.read())\n",
    "        print( )\n",
    "        f.close()"
   ]
  },
  {
   "cell_type": "code",
   "execution_count": null,
   "metadata": {},
   "outputs": [],
   "source": []
  }
 ],
 "metadata": {
  "kernelspec": {
   "display_name": "base",
   "language": "python",
   "name": "python3"
  },
  "language_info": {
   "codemirror_mode": {
    "name": "ipython",
    "version": 3
   },
   "file_extension": ".py",
   "mimetype": "text/x-python",
   "name": "python",
   "nbconvert_exporter": "python",
   "pygments_lexer": "ipython3",
   "version": "3.8.5"
  },
  "orig_nbformat": 4,
  "vscode": {
   "interpreter": {
    "hash": "ad2bdc8ecc057115af97d19610ffacc2b4e99fae6737bb82f5d7fb13d2f2c186"
   }
  }
 },
 "nbformat": 4,
 "nbformat_minor": 2
}
