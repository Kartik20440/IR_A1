{
 "cells": [
  {
   "cell_type": "code",
   "execution_count": 1,
   "metadata": {},
   "outputs": [
    {
     "name": "stderr",
     "output_type": "stream",
     "text": [
      "[nltk_data] Downloading package punkt to\n",
      "[nltk_data]     /Users/darshparikh/nltk_data...\n",
      "[nltk_data]   Package punkt is already up-to-date!\n",
      "[nltk_data] Downloading package stopwords to\n",
      "[nltk_data]     /Users/darshparikh/nltk_data...\n",
      "[nltk_data]   Package stopwords is already up-to-date!\n"
     ]
    },
    {
     "data": {
      "text/plain": [
       "True"
      ]
     },
     "execution_count": 1,
     "metadata": {},
     "output_type": "execute_result"
    }
   ],
   "source": [
    "import pickle\n",
    "import os\n",
    "from tqdm.notebook import tqdm,tnrange\n",
    "from nltk.stem import PorterStemmer,SnowballStemmer,WordNetLemmatizer\n",
    "from nltk.tokenize import word_tokenize\n",
    "import nltk\n",
    "from nltk.corpus import stopwords\n",
    "import json\n",
    "\n",
    "#punkt and stopqwords\n",
    "nltk.download('punkt')\n",
    "nltk.download('stopwords')\n"
   ]
  },
  {
   "cell_type": "code",
   "execution_count": 2,
   "metadata": {},
   "outputs": [],
   "source": [
    "os.chdir('../CSE508_Winter2023_Dataset/CSE508_Winter2023_Dataset_XML/')"
   ]
  },
  {
   "cell_type": "code",
   "execution_count": 3,
   "metadata": {},
   "outputs": [],
   "source": [
    "def preprocess(filename):\n",
    "    # open the file and read the text\n",
    "    with open(filename, 'r') as f:\n",
    "        text = f.read()\n",
    "    # Lowercase the text\n",
    "    text = text.lower()\n",
    "\n",
    "    # Perform tokenization\n",
    "    tokens = word_tokenize(text)\n",
    "    \n",
    "    # Remove stopwords\n",
    "    stop_words = set(stopwords.words('english'))\n",
    "    tokens = [w for w in tokens if not w in stop_words]\n",
    "    # Remove punctuations\n",
    "    tokens = [w for w in tokens if w.isalpha()]\n",
    "    # Remove blank space tokens\n",
    "    tokens = [w for w in tokens if w.strip()]\n",
    "    # Remove tokens that occur twice, preserve the order of tokens in list\n",
    "    tokens = list(dict.fromkeys(tokens))\n",
    "    return tokens\n",
    "\n",
    "# make a dictionary of bigram tokens as keys containg the list of files they occur in\n",
    "bigram_dict = {}\n",
    "def make_dict(filename, tokens):\n",
    "    for i in range(len(tokens)-1):\n",
    "        bigram = tokens[i] + ' ' + tokens[i+1]\n",
    "        if bigram in bigram_dict:\n",
    "            bigram_dict[bigram].append(filename)\n",
    "        else:\n",
    "            bigram_dict[bigram] = [filename]"
   ]
  },
  {
   "cell_type": "code",
   "execution_count": 4,
   "metadata": {},
   "outputs": [
    {
     "data": {
      "application/vnd.jupyter.widget-view+json": {
       "model_id": "86de2ca20aac43e98a097c9d37255124",
       "version_major": 2,
       "version_minor": 0
      },
      "text/plain": [
       "HBox(children=(HTML(value=''), FloatProgress(value=0.0, max=1400.0), HTML(value='')))"
      ]
     },
     "metadata": {},
     "output_type": "display_data"
    },
    {
     "name": "stdout",
     "output_type": "stream",
     "text": [
      "\n"
     ]
    }
   ],
   "source": [
    "# run the function preprocess and make_dict for all the files in the directory\n",
    "for filename in tqdm(os.listdir()):\n",
    "    tokens = preprocess(filename)\n",
    "    make_dict(filename, tokens)\n",
    "\n",
    "# save the dictionary in a pickle file\n",
    "os.chdir('../InvertedIndex')\n",
    "# delete file with given filename in directory\n",
    "if os.path.exists('bigramindex.pickle'):\n",
    "    os.remove('bigramindex.pickle')\n",
    "\n",
    "# save the dictionary in a pickle file\n",
    "with open('bigramindex.pickle', 'wb') as f:\n",
    "    pickle.dump(bigram_dict, f)\n",
    "\n",
    "# delete file with given filename in directory\n",
    "if os.path.exists('bigramindex.txt'):\n",
    "    os.remove('bigramindex.txt')\n",
    "\n",
    "with open('bigramindex.txt', 'w') as f:\n",
    "    f.write(json.dumps(bigram_dict, indent=4))"
   ]
  },
  {
   "cell_type": "code",
   "execution_count": 5,
   "metadata": {},
   "outputs": [],
   "source": [
    "os.chdir('../CSE508_Winter2023_Dataset_XML/')"
   ]
  },
  {
   "cell_type": "code",
   "execution_count": 6,
   "metadata": {},
   "outputs": [],
   "source": [
    "db = {}\n",
    "\n",
    "def make_dict(tokens, filename):\n",
    "    for i in range(len(tokens)):\n",
    "        if tokens[i] in db:\n",
    "            db[tokens[i]].append([filename, i])\n",
    "        else:\n",
    "            db[tokens[i]] = [[filename, i]]\n"
   ]
  },
  {
   "cell_type": "code",
   "execution_count": 7,
   "metadata": {},
   "outputs": [
    {
     "data": {
      "application/vnd.jupyter.widget-view+json": {
       "model_id": "2278a38328984037986ef35d9b9d88af",
       "version_major": 2,
       "version_minor": 0
      },
      "text/plain": [
       "HBox(children=(HTML(value=''), FloatProgress(value=0.0, max=1400.0), HTML(value='')))"
      ]
     },
     "metadata": {},
     "output_type": "display_data"
    },
    {
     "name": "stdout",
     "output_type": "stream",
     "text": [
      "\n"
     ]
    }
   ],
   "source": [
    "for filename in tqdm(os.listdir()):\n",
    "    tokens = preprocess(filename)\n",
    "    make_dict(tokens, filename)\n",
    "\n",
    "# save the dictionary in a pickle file\n",
    "os.chdir('../InvertedIndex')\n",
    "# delete file with given filename in directory\n",
    "if os.path.exists('positional.pickle'):\n",
    "    os.remove('positional.pickle')\n",
    "\n",
    "# save the dictionary in a pickle file\n",
    "with open('positional.pickle', 'wb') as f:\n",
    "    pickle.dump(db, f)\n",
    "\n",
    "# delete file with given filename in directory\n",
    "if os.path.exists('positional.txt'):\n",
    "    os.remove('positional.txt')\n",
    "\n",
    "with open('posotional.txt', 'w') as f:\n",
    "    f.write(json.dumps(db, indent=4))"
   ]
  },
  {
   "cell_type": "code",
   "execution_count": null,
   "metadata": {},
   "outputs": [],
   "source": []
  }
 ],
 "metadata": {
  "kernelspec": {
   "display_name": "base",
   "language": "python",
   "name": "python3"
  },
  "language_info": {
   "codemirror_mode": {
    "name": "ipython",
    "version": 3
   },
   "file_extension": ".py",
   "mimetype": "text/x-python",
   "name": "python",
   "nbconvert_exporter": "python",
   "pygments_lexer": "ipython3",
   "version": "3.8.5"
  },
  "orig_nbformat": 4,
  "vscode": {
   "interpreter": {
    "hash": "8b53984f398ab00d325320b5f2c201fdc18ab7b931fd13420b496f09a76a9831"
   }
  }
 },
 "nbformat": 4,
 "nbformat_minor": 2
}
