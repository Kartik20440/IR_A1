{
 "cells": [
  {
   "cell_type": "code",
   "execution_count": 1,
   "metadata": {},
   "outputs": [
    {
     "name": "stderr",
     "output_type": "stream",
     "text": [
      "[nltk_data] Downloading package punkt to\n",
      "[nltk_data]     C:\\Users\\ussin\\AppData\\Roaming\\nltk_data...\n",
      "[nltk_data]   Package punkt is already up-to-date!\n",
      "[nltk_data] Downloading package stopwords to\n",
      "[nltk_data]     C:\\Users\\ussin\\AppData\\Roaming\\nltk_data...\n",
      "[nltk_data]   Package stopwords is already up-to-date!\n"
     ]
    },
    {
     "data": {
      "text/plain": [
       "True"
      ]
     },
     "execution_count": 1,
     "metadata": {},
     "output_type": "execute_result"
    }
   ],
   "source": [
    "import pickle\n",
    "import os\n",
    "from tqdm.notebook import tqdm,tnrange\n",
    "from nltk.stem import PorterStemmer,SnowballStemmer,WordNetLemmatizer\n",
    "from nltk.tokenize import word_tokenize\n",
    "import nltk\n",
    "from nltk.corpus import stopwords\n",
    "import json\n",
    "\n",
    "#punkt and stopqwords\n",
    "nltk.download('punkt')\n",
    "nltk.download('stopwords')\n"
   ]
  },
  {
   "cell_type": "code",
   "execution_count": 2,
   "metadata": {},
   "outputs": [],
   "source": [
    "os.chdir('../CSE508_Winter2023_Dataset/CSE508_Winter2023_Dataset_XML/')"
   ]
  },
  {
   "cell_type": "code",
   "execution_count": 3,
   "metadata": {},
   "outputs": [],
   "source": [
    "def preprocess(filename):\n",
    "    # open the file and read the text\n",
    "    with open(filename, 'r') as f:\n",
    "        text = f.read()\n",
    "    # Lowercase the text\n",
    "    text = text.lower()\n",
    "    # Perform tokenization\n",
    "    tokens = word_tokenize(text)\n",
    "    # Remove stopwords\n",
    "    stop_words = set(stopwords.words('english'))\n",
    "    tokens = [w for w in tokens if not w in stop_words]\n",
    "    # remove punctuations but not hyphen separated words\n",
    "    tokens = [w for w in tokens if w.isalpha() or '-' in w]\n",
    "    # Remove blank space tokens\n",
    "    tokens = [w for w in tokens if w.strip()]\n",
    "    return tokens\n",
    "\n",
    "# make a dictionary of bigram tokens as keys containg the list of files they occur in\n",
    "bigram_dict = {}\n",
    "def make_dict(filename, tokens):\n",
    "    for i in range(len(tokens)-1):\n",
    "        bigram = tokens[i] + ' ' + tokens[i+1]\n",
    "        if bigram in bigram_dict:\n",
    "            bigram_dict[bigram].append(filename)\n",
    "        else:\n",
    "            bigram_dict[bigram] = [filename]"
   ]
  },
  {
   "cell_type": "code",
   "execution_count": 4,
   "metadata": {},
   "outputs": [
    {
     "data": {
      "application/vnd.jupyter.widget-view+json": {
       "model_id": "2222a4b018254b029798d077a02b1f42",
       "version_major": 2,
       "version_minor": 0
      },
      "text/plain": [
       "HBox(children=(HTML(value=''), FloatProgress(value=0.0, max=1400.0), HTML(value='')))"
      ]
     },
     "metadata": {},
     "output_type": "display_data"
    },
    {
     "name": "stdout",
     "output_type": "stream",
     "text": [
      "\n"
     ]
    }
   ],
   "source": [
    "# run the function preprocess and make_dict for all the files in the directory\n",
    "for filename in tqdm(os.listdir()):\n",
    "    tokens = preprocess(filename)\n",
    "    make_dict(filename, tokens)\n",
    "\n",
    "# save the dictionary in a pickle file\n",
    "os.chdir('../InvertedIndex')\n",
    "# delete file with given filename in directory\n",
    "if os.path.exists('bigramindex.pickle'):\n",
    "    os.remove('bigramindex.pickle')\n",
    "\n",
    "# save the dictionary in a pickle file\n",
    "with open('bigramindex.pickle', 'wb') as f:\n",
    "    pickle.dump(bigram_dict, f)\n",
    "\n",
    "# delete file with given filename in directory\n",
    "if os.path.exists('bigramindex.txt'):\n",
    "    os.remove('bigramindex.txt')\n",
    "\n",
    "with open('bigramindex.txt', 'w') as f:\n",
    "    f.write(json.dumps(bigram_dict, indent=4))"
   ]
  },
  {
   "cell_type": "code",
   "execution_count": 5,
   "metadata": {},
   "outputs": [],
   "source": [
    "os.chdir('../CSE508_Winter2023_Dataset_XML/')"
   ]
  },
  {
   "cell_type": "code",
   "execution_count": 6,
   "metadata": {},
   "outputs": [],
   "source": [
    "db = {}\n",
    "\n",
    "# make dictionary of token as key and list of wehere the filename itself is dictionary and positions as value\n",
    "def make_dict(tokens, filename):\n",
    "    for i in range(len(tokens)):\n",
    "        if tokens[i] in db:\n",
    "            if filename in db[tokens[i]]:\n",
    "                db[tokens[i]][filename].append(i)\n",
    "            else:\n",
    "                db[tokens[i]][filename] = [i]\n",
    "        else:\n",
    "            db[tokens[i]] = {filename: [i]}"
   ]
  },
  {
   "cell_type": "code",
   "execution_count": 7,
   "metadata": {},
   "outputs": [
    {
     "data": {
      "application/vnd.jupyter.widget-view+json": {
       "model_id": "b2df4a9d649f49b99ed3f518d8689b1a",
       "version_major": 2,
       "version_minor": 0
      },
      "text/plain": [
       "HBox(children=(HTML(value=''), FloatProgress(value=0.0, max=1400.0), HTML(value='')))"
      ]
     },
     "metadata": {},
     "output_type": "display_data"
    },
    {
     "name": "stdout",
     "output_type": "stream",
     "text": [
      "\n"
     ]
    }
   ],
   "source": [
    "for filename in tqdm(os.listdir()):\n",
    "    tokens = preprocess(filename)\n",
    "    make_dict(tokens, filename)\n",
    "\n",
    "# save the dictionary in a pickle file\n",
    "os.chdir('../InvertedIndex')\n",
    "# delete file with given filename in directory\n",
    "if os.path.exists('positional.pickle'):\n",
    "    os.remove('positional.pickle')\n",
    "\n",
    "# save the dictionary in a pickle file\n",
    "with open('positional.pickle', 'wb') as f:\n",
    "    pickle.dump(db, f)\n",
    "\n",
    "# delete file with given filename in directory\n",
    "if os.path.exists('positional.txt'):\n",
    "    os.remove('positional.txt')\n",
    "\n",
    "with open('positional.txt', 'w') as f:\n",
    "    f.write(json.dumps(db, indent=4))"
   ]
  },
  {
   "cell_type": "code",
   "execution_count": 8,
   "metadata": {},
   "outputs": [],
   "source": [
    "# load positional index pickle file\n",
    "with open('positional.pickle', 'rb') as f:\n",
    "    db = pickle.load(f)\n",
    "\n",
    "\n",
    "# positional query function that takes a query as input and returns the files that contain the query in the order of the query\n",
    "def positional_query(query):\n",
    "    query = query.lower()\n",
    "    tokens = word_tokenize(query)\n",
    "    # Remove stopwords\n",
    "    stop_words = set(stopwords.words('english'))\n",
    "    tokens = [w for w in tokens if not w in stop_words]\n",
    "    # remove punctuations but not hyphen separated words\n",
    "    tokens = [w for w in tokens if w.isalpha() or '-' in w]\n",
    "    # remove blank space tokens\n",
    "    tokens = [w for w in tokens if w.strip()]\n",
    "    # the db stored in the format of {token: {filename: [positions]}}\n",
    "    # find the files that contain the first word in the query\n",
    "    files = db[tokens[0]]\n",
    "    # find the files that contain the rest of the words in the query\n",
    "    for i in range(1, len(tokens)):\n",
    "        files = [file for file in files if file in db[tokens[i]]]\n",
    "    # find the files that contain the words in the query in the order of the query\n",
    "    for file in files:\n",
    "        positions = [db[tokens[0]][file]]\n",
    "        for i in range(1, len(tokens)):\n",
    "            positions.append(db[tokens[i]][file])\n",
    "        # check if the positions are in the order of the query\n",
    "        # also check if the words are at the same distance from each other\n",
    "        for i in range(len(positions)-1):\n",
    "            d = 1\n",
    "            if not(d >= positions[i+1][0] - positions[i][-1] >= 1):\n",
    "                files.remove(file)\n",
    "                break\n",
    "    return files\n",
    "\n",
    "\n",
    "# for i in range(len(positions)-1):\n",
    "        #     if positions[i][-1] > positions[i+1][0]:\n",
    "        #         files.remove(file)\n",
    "        #         break\n",
    "\n",
    "\n",
    "# def positional_query(query):\n",
    "#     query = query.lower()\n",
    "#     tokens = word_tokenize(query)\n",
    "#     # Remove stopwords\n",
    "#     stop_words = set(stopwords.words('english'))\n",
    "#     tokens = [w for w in tokens if not w in stop_words]\n",
    "#     # remove punctuations\n",
    "#     tokens = [w for w in tokens if w.isalpha()]\n",
    "#     # remove blank space tokens\n",
    "#     tokens = [w for w in tokens if w.strip()]\n",
    "#     # find the files that contain the first word in the query\n",
    "#     files = db[tokens[0]]\n",
    "#     # find the files that contain the rest of the words in the query\n",
    "#     for i in range(1, len(tokens)):\n",
    "#         files = [file for file in files if file[0] in db[tokens[i]]]\n",
    "#     # find the files that contain the words in the query in the order of the query\n",
    "#     print(files)\n",
    "#     for file in files:\n",
    "#         positions = [file[1]]\n",
    "#         for i in range(1, len(tokens)):\n",
    "#             positions.append(db[tokens[i]][db[tokens[i]].index(file)+i][1])\n",
    "#         print(positions)\n",
    "#         print(sorted(positions))\n",
    "#         if positions == sorted(positions):\n",
    "#             print(file[0])"
   ]
  },
  {
   "cell_type": "code",
   "execution_count": 9,
   "metadata": {},
   "outputs": [
    {
     "name": "stdout",
     "output_type": "stream",
     "text": [
      "['cranfield1400']\n"
     ]
    }
   ],
   "source": [
    "print(positional_query('infinitely long and simply-supported along'))"
   ]
  },
  {
   "cell_type": "code",
   "execution_count": null,
   "metadata": {},
   "outputs": [],
   "source": []
  }
 ],
 "metadata": {
  "kernelspec": {
   "display_name": "base",
   "language": "python",
   "name": "python3"
  },
  "language_info": {
   "codemirror_mode": {
    "name": "ipython",
    "version": 3
   },
   "file_extension": ".py",
   "mimetype": "text/x-python",
   "name": "python",
   "nbconvert_exporter": "python",
   "pygments_lexer": "ipython3",
   "version": "3.8.5"
  },
  "orig_nbformat": 4,
  "vscode": {
   "interpreter": {
    "hash": "ad2bdc8ecc057115af97d19610ffacc2b4e99fae6737bb82f5d7fb13d2f2c186"
   }
  }
 },
 "nbformat": 4,
 "nbformat_minor": 2
}
