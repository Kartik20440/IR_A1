{
 "cells": [
  {
   "cell_type": "code",
   "execution_count": 5,
   "metadata": {},
   "outputs": [
    {
     "name": "stderr",
     "output_type": "stream",
     "text": [
      "[nltk_data] Downloading package punkt to\n",
      "[nltk_data]     C:\\Users\\ussin\\AppData\\Roaming\\nltk_data...\n",
      "[nltk_data]   Package punkt is already up-to-date!\n",
      "[nltk_data] Downloading package stopwords to\n",
      "[nltk_data]     C:\\Users\\ussin\\AppData\\Roaming\\nltk_data...\n",
      "[nltk_data]   Package stopwords is already up-to-date!\n"
     ]
    },
    {
     "data": {
      "text/plain": [
       "True"
      ]
     },
     "execution_count": 5,
     "metadata": {},
     "output_type": "execute_result"
    }
   ],
   "source": [
    "from nltk.stem import PorterStemmer,SnowballStemmer,WordNetLemmatizer\n",
    "from nltk.tokenize import word_tokenize\n",
    "import nltk\n",
    "from nltk.corpus import stopwords\n",
    "import json\n",
    "import os\n",
    "import pickle\n",
    "\n",
    "#punkt and stopqwords\n",
    "nltk.download('punkt')\n",
    "nltk.download('stopwords')"
   ]
  },
  {
   "cell_type": "code",
   "execution_count": 6,
   "metadata": {},
   "outputs": [
    {
     "ename": "FileNotFoundError",
     "evalue": "[WinError 2] The system cannot find the file specified: '../CSE508_Winter2023_Dataset/CSE508_Winter2023_Dataset_XML'",
     "output_type": "error",
     "traceback": [
      "\u001b[1;31m---------------------------------------------------------------------------\u001b[0m",
      "\u001b[1;31mFileNotFoundError\u001b[0m                         Traceback (most recent call last)",
      "\u001b[1;32m<ipython-input-6-44047c536106>\u001b[0m in \u001b[0;36m<module>\u001b[1;34m\u001b[0m\n\u001b[1;32m----> 1\u001b[1;33m \u001b[0mos\u001b[0m\u001b[1;33m.\u001b[0m\u001b[0mchdir\u001b[0m\u001b[1;33m(\u001b[0m\u001b[1;34m'../CSE508_Winter2023_Dataset/CSE508_Winter2023_Dataset_XML'\u001b[0m\u001b[1;33m)\u001b[0m\u001b[1;33m\u001b[0m\u001b[1;33m\u001b[0m\u001b[0m\n\u001b[0m",
      "\u001b[1;31mFileNotFoundError\u001b[0m: [WinError 2] The system cannot find the file specified: '../CSE508_Winter2023_Dataset/CSE508_Winter2023_Dataset_XML'"
     ]
    }
   ],
   "source": [
    "os.chdir('../CSE508_Winter2023_Dataset/CSE508_Winter2023_Dataset_XML')"
   ]
  },
  {
   "cell_type": "code",
   "execution_count": 7,
   "metadata": {},
   "outputs": [],
   "source": [
    "# function with subfunctions to Lowercase the text Perform tokenization, Remove stopwords, Remove punctuations, Remove blank space tokens using filname\n",
    "def preprocess(filename):\n",
    "    # open the file and read the text\n",
    "    with open(filename, 'r') as f:\n",
    "        text = f.read()\n",
    "    # Lowercase the text\n",
    "    text = text.lower()\n",
    "\n",
    "    # Perform tokenization\n",
    "    tokens = word_tokenize(text)\n",
    "    \n",
    "    # Remove stopwords\n",
    "    stop_words = set(stopwords.words('english'))\n",
    "    tokens = [w for w in tokens if not w in stop_words]\n",
    "    # remove punctuations but not hyphen separated words\n",
    "    tokens = [w for w in tokens if w.isalpha() or '-' in w]\n",
    "    # Remove blank space tokens\n",
    "    tokens = [w for w in tokens if w.strip()]\n",
    "    # Remove tokens that occur twice, preserve the order of tokens in list\n",
    "    tokens = list(dict.fromkeys(tokens))\n",
    "    return tokens\n",
    "\n",
    "db = {}\n",
    "\n",
    "# make a dictionary of token conatining the list of files and size of list it is stored in and store the dictionary in db\n",
    "def make_dict(tokens, filename):\n",
    "    for token in tokens:\n",
    "        if token in db:\n",
    "            db[token][0].append(filename)\n",
    "            db[token][1] += 1\n",
    "        else:\n",
    "            db[token] = [[filename], 1]\n",
    "\n",
    "\n",
    "# def make_dict(tokens, filename):\n",
    "#     for token in tokens:\n",
    "#         if token in db:\n",
    "#             db[token].append(filename)\n",
    "#         else:\n",
    "#             db[token] = [filename]\n",
    "# run the function preprocess and make_dict for all the files in the directory\n",
    "for filename in os.listdir():\n",
    "    tokens = preprocess(filename)\n",
    "    make_dict(tokens, filename)\n",
    "\n",
    "# save the dictionary in a pickle file\n",
    "os.chdir('../InvertedIndex')\n",
    "# delete file with given filename in directory\n",
    "if os.path.exists('invertedindex.pickle'):\n",
    "    os.remove('invertedindex.pickle')\n",
    "\n",
    "# save the dictionary in a pickle file\n",
    "with open('invertedindex.pickle', 'wb') as f:\n",
    "    pickle.dump(db, f)"
   ]
  },
  {
   "cell_type": "code",
   "execution_count": 8,
   "metadata": {},
   "outputs": [],
   "source": [
    "# delete file with given filename in directory\n",
    "if os.path.exists('invertedindex.txt'):\n",
    "    os.remove('invertedindex.txt')\n",
    "\n",
    "with open('invertedindex.txt', 'w') as f:\n",
    "    f.write(json.dumps(db, indent=4))"
   ]
  },
  {
   "cell_type": "code",
   "execution_count": 9,
   "metadata": {},
   "outputs": [
    {
     "name": "stdout",
     "output_type": "stream",
     "text": [
      "['My', 'name', 'is', 'Uttkasrs-singh']\n"
     ]
    }
   ],
   "source": []
  },
  {
   "cell_type": "code",
   "execution_count": null,
   "metadata": {},
   "outputs": [],
   "source": []
  }
 ],
 "metadata": {
  "kernelspec": {
   "display_name": "base",
   "language": "python",
   "name": "python3"
  },
  "language_info": {
   "codemirror_mode": {
    "name": "ipython",
    "version": 3
   },
   "file_extension": ".py",
   "mimetype": "text/x-python",
   "name": "python",
   "nbconvert_exporter": "python",
   "pygments_lexer": "ipython3",
   "version": "3.8.5"
  },
  "orig_nbformat": 4,
  "vscode": {
   "interpreter": {
    "hash": "ad2bdc8ecc057115af97d19610ffacc2b4e99fae6737bb82f5d7fb13d2f2c186"
   }
  }
 },
 "nbformat": 4,
 "nbformat_minor": 2
}
