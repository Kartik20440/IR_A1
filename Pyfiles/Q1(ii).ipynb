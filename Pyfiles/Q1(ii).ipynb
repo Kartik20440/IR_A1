{
 "cells": [
  {
   "cell_type": "code",
   "execution_count": 1,
   "metadata": {},
   "outputs": [
    {
     "name": "stderr",
     "output_type": "stream",
     "text": [
      "[nltk_data] Downloading package punkt to\n",
      "[nltk_data]     C:\\Users\\ussin\\AppData\\Roaming\\nltk_data...\n",
      "[nltk_data]   Package punkt is already up-to-date!\n",
      "[nltk_data] Downloading package stopwords to\n",
      "[nltk_data]     C:\\Users\\ussin\\AppData\\Roaming\\nltk_data...\n",
      "[nltk_data]   Package stopwords is already up-to-date!\n"
     ]
    },
    {
     "data": {
      "text/plain": [
       "True"
      ]
     },
     "execution_count": 1,
     "metadata": {},
     "output_type": "execute_result"
    }
   ],
   "source": [
    "from nltk.stem import PorterStemmer,SnowballStemmer,WordNetLemmatizer\n",
    "from nltk.tokenize import word_tokenize\n",
    "import nltk\n",
    "from nltk.corpus import stopwords\n",
    "import json\n",
    "import os\n",
    "import pickle\n",
    "\n",
    "#punkt and stopqwords\n",
    "nltk.download('punkt')\n",
    "nltk.download('stopwords')"
   ]
  },
  {
   "cell_type": "code",
   "execution_count": 2,
   "metadata": {},
   "outputs": [],
   "source": [
    "os.chdir('../CSE508_Winter2023_Dataset/CSE508_Winter2023_Dataset_XML')"
   ]
  },
  {
   "cell_type": "code",
   "execution_count": 3,
   "metadata": {},
   "outputs": [],
   "source": [
    "# function with subfunctions to Lowercase the text Perform tokenization, Remove stopwords, Remove punctuations, Remove blank space tokens using filname\n",
    "def preprocess(filename):\n",
    "    # open the file and read the text\n",
    "    with open(filename, 'r') as f:\n",
    "        text = f.read()\n",
    "    # Lowercase the text\n",
    "    text = text.lower()\n",
    "\n",
    "    # Perform tokenization\n",
    "    tokens = word_tokenize(text)\n",
    "    \n",
    "    # Remove stopwords\n",
    "    stop_words = set(stopwords.words('english'))\n",
    "    tokens = [w for w in tokens if not w in stop_words]\n",
    "    # Remove punctuations\n",
    "    tokens = [w for w in tokens if w.isalpha()]\n",
    "    # Remove blank space tokens\n",
    "    tokens = [w for w in tokens if w.strip()]\n",
    "    return set(tokens)\n",
    "\n",
    "db = {}\n",
    "\n",
    "# make a dictionary of token conatining the list of files and size of list it is stored in and store the dictionary in db\n",
    "def make_dict(tokens, filename):\n",
    "    for token in tokens:\n",
    "        if token in db:\n",
    "            db[token][0].append(filename)\n",
    "            db[token][1] += 1\n",
    "        else:\n",
    "            db[token] = [[filename], 1]\n",
    "\n",
    "\n",
    "# def make_dict(tokens, filename):\n",
    "#     for token in tokens:\n",
    "#         if token in db:\n",
    "#             db[token].append(filename)\n",
    "#         else:\n",
    "#             db[token] = [filename]\n",
    "# run the function preprocess and make_dict for all the files in the directory\n",
    "for filename in os.listdir():\n",
    "    tokens = preprocess(filename)\n",
    "    make_dict(tokens, filename)\n",
    "\n",
    "# save the dictionary in a pickle file\n",
    "os.chdir('../InvertedIndex')\n",
    "# delete file with given filename in directory\n",
    "if os.path.exists('invertedindex.pickle'):\n",
    "    os.remove('invertedindex.pickle')\n",
    "\n",
    "# save the dictionary in a pickle file\n",
    "with open('invertedindex.pickle', 'wb') as f:\n",
    "    pickle.dump(db, f)"
   ]
  },
  {
   "cell_type": "code",
   "execution_count": 4,
   "metadata": {},
   "outputs": [],
   "source": [
    "# delete file with given filename in directory\n",
    "if os.path.exists('invertedindex.txt'):\n",
    "    os.remove('invertedindex.txt')\n",
    "\n",
    "with open('invertedindex.txt', 'w') as f:\n",
    "    f.write(json.dumps(db, indent=4))"
   ]
  }
 ],
 "metadata": {
  "kernelspec": {
   "display_name": "base",
   "language": "python",
   "name": "python3"
  },
  "language_info": {
   "codemirror_mode": {
    "name": "ipython",
    "version": 3
   },
   "file_extension": ".py",
   "mimetype": "text/x-python",
   "name": "python",
   "nbconvert_exporter": "python",
   "pygments_lexer": "ipython3",
   "version": "3.8.5"
  },
  "orig_nbformat": 4,
  "vscode": {
   "interpreter": {
    "hash": "8b53984f398ab00d325320b5f2c201fdc18ab7b931fd13420b496f09a76a9831"
   }
  }
 },
 "nbformat": 4,
 "nbformat_minor": 2
}
